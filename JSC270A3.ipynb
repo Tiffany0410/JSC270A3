{
  "nbformat": 4,
  "nbformat_minor": 0,
  "metadata": {
    "colab": {
      "name": "JSC270A3.ipynb",
      "provenance": [],
      "collapsed_sections": [],
      "authorship_tag": "ABX9TyN0oDph2vKreHubj/jvH0X1",
      "include_colab_link": true
    },
    "kernelspec": {
      "name": "python3",
      "display_name": "Python 3"
    }
  },
  "cells": [
    {
      "cell_type": "markdown",
      "metadata": {
        "id": "view-in-github",
        "colab_type": "text"
      },
      "source": [
        "<a href=\"https://colab.research.google.com/github/Tiffany0410/JSC270A3/blob/main/JSC270A3.ipynb\" target=\"_parent\"><img src=\"https://colab.research.google.com/assets/colab-badge.svg\" alt=\"Open In Colab\"/></a>"
      ]
    },
    {
      "cell_type": "markdown",
      "metadata": {
        "id": "4NyV0RmB_ymV"
      },
      "source": [
        "# JSC270 Assignment 3: Simulation\n",
        "\n",
        "Shi Tang 1005930619"
      ]
    },
    {
      "cell_type": "code",
      "metadata": {
        "id": "1DJH-RMrBAhu"
      },
      "source": [
        "# import packages\n",
        "import numpy as np\n",
        "import matplotlib.pyplot as plt\n",
        "from sklearn.linear_model import LogisticRegression\n",
        "from sklearn.model_selection import train_test_split\n",
        "from sklearn.metrics import *\n",
        "from sklearn.tree import DecisionTreeClassifier"
      ],
      "execution_count": null,
      "outputs": []
    },
    {
      "cell_type": "markdown",
      "metadata": {
        "id": "tVAtHlwuAHRO"
      },
      "source": [
        "# 1. Bayesian Simulation"
      ]
    },
    {
      "cell_type": "markdown",
      "metadata": {
        "id": "CjP-GqKyE4Gs"
      },
      "source": [
        "D) Using the values of a and b above, simulate 1000 draws each from the prior and posterior distributions you derived earlier. Assume a dataset of 20 individuals, 4 of whom have contracted the disease (i.e. n = 20, Σni=1xi = 4). Plot the prior and posterior distributions (histograms are fine). You may find the numpy function np.random.beta() useful here. How does the posterior mean compare to 1) the prior mean, and 2) the traditional likelihood estimate, n1 Σni=1xi? Why do you think this is?"
      ]
    },
    {
      "cell_type": "code",
      "metadata": {
        "id": "nJl9DWA5Fkoa"
      },
      "source": [
        "def beta_dis(a, b):\n",
        "  return np.random.beta(a, b, 1000)"
      ],
      "execution_count": null,
      "outputs": []
    },
    {
      "cell_type": "code",
      "metadata": {
        "colab": {
          "base_uri": "https://localhost:8080/"
        },
        "id": "Ly9zoCBnAQg_",
        "outputId": "e502478a-2a11-4685-9e59-2048581e11ec"
      },
      "source": [
        "np.random.seed(10)\n",
        "\n",
        "prior_dis = beta_dis(1, 1)\n",
        "poster_dis = beta_dis(5, 17)\n",
        "\n",
        "mean_prior = np.mean(prior_dis)\n",
        "mean_poster = np.mean(poster_dis)\n",
        "\n",
        "print(\"Prior mean: \" + str(mean_prior) + \"\\nPosterior mean: \" + str(mean_poster) + \"\\nTraditional likelihood estimate: \" + str(4/20))"
      ],
      "execution_count": null,
      "outputs": [
        {
          "output_type": "stream",
          "text": [
            "Prior mean: 0.5168979778548164\n",
            "Posterior mean: 0.22700055764425425\n",
            "Traditional likelihood estimate: 0.2\n"
          ],
          "name": "stdout"
        }
      ]
    },
    {
      "cell_type": "code",
      "metadata": {
        "colab": {
          "base_uri": "https://localhost:8080/",
          "height": 265
        },
        "id": "W5IW1u17FUqr",
        "outputId": "06d90b36-4999-4b76-a531-2e0bcd29c392"
      },
      "source": [
        "plt.hist(prior_dis, alpha = 0.3, label=\"prior\")\n",
        "plt.hist(poster_dis, alpha = 0.5, label=\"posterior\")\n",
        "plt.legend()\n",
        "plt.show()"
      ],
      "execution_count": null,
      "outputs": [
        {
          "output_type": "display_data",
          "data": {
            "image/png": "[encoded data removed]",
            "text/plain": [
              "<Figure size 432x288 with 1 Axes>"
            ]
          },
          "metadata": {
            "tags": [],
            "needs_background": "light"
          }
        }
      ]
    },
    {
      "cell_type": "markdown",
      "metadata": {
        "id": "huf-p3x_E6D8"
      },
      "source": [
        "E) Suppose scientists are fairly certain that the contraction rate of COVID is close to that of the flu, which is fairly low. To encode this belief, we change the hyperparameters of our prior to a = 1, b = 3. Simulate 1000 draws each from the prior and posterior distributions using the new hyperparameters. Assume a dataset identical to the one in part D (ie. n = 20, Σni=1xi = 4). Plot the new prior and posterior distributions. What are the new prior and posterior means, and how do they compare to those you found in part D? Explain the differences."
      ]
    },
    {
      "cell_type": "code",
      "metadata": {
        "colab": {
          "base_uri": "https://localhost:8080/"
        },
        "id": "GJVlwmO1E3Lw",
        "outputId": "256d632c-d77a-4676-a554-02686db7f0bb"
      },
      "source": [
        "np.random.seed(20)\n",
        "\n",
        "e_prior_dis = beta_dis(1, 3)\n",
        "e_poster_dis = beta_dis(5, 19)\n",
        "\n",
        "e_mean_prior = np.mean(e_prior_dis)\n",
        "e_mean_poster = np.mean(e_poster_dis)\n",
        "\n",
        "print(\"New prior mean: \" + str(e_mean_prior) + \"\\nNew posterior mean: \" + str(e_mean_poster) + \"\\nTraditional likelihood estimate: \" + str(4/20))"
      ],
      "execution_count": null,
      "outputs": [
        {
          "output_type": "stream",
          "text": [
            "New prior mean: 0.241552917072909\n",
            "New posterior mean: 0.21006952673609594\n",
            "Traditional likelihood estimate: 0.2\n"
          ],
          "name": "stdout"
        }
      ]
    },
    {
      "cell_type": "code",
      "metadata": {
        "colab": {
          "base_uri": "https://localhost:8080/",
          "height": 265
        },
        "id": "oQ2EjJMsHhSj",
        "outputId": "303c409c-817d-4802-c0bf-f285e7a7d501"
      },
      "source": [
        "plt.hist(e_prior_dis, alpha = 0.3, label=\"prior\")\n",
        "plt.hist(e_poster_dis, alpha = 0.5, label=\"posterior\")\n",
        "plt.legend()\n",
        "plt.show()"
      ],
      "execution_count": null,
      "outputs": [
        {
          "output_type": "display_data",
          "data": {
            "image/png": "[encoded data removed]",
            "text/plain": [
              "<Figure size 432x288 with 1 Axes>"
            ]
          },
          "metadata": {
            "tags": [],
            "needs_background": "light"
          }
        }
      ]
    },
    {
      "cell_type": "markdown",
      "metadata": {
        "id": "6yrryPp9IssO"
      },
      "source": [
        "F) Now suppose we have the same prior as in E (a = 1,b = 3), but we get a different dataset: n = 20, Σni=1xi = 12. Simulate 1000 draws each from the prior and posterior distributions using the new dataset. Plot the new prior and posterior distributions (again, histograms are fine). Compare the prior and posterior means to the likelihood estimate defined earlier. How do these results compare to those you obtained in parts D and E? Explain these differences."
      ]
    },
    {
      "cell_type": "code",
      "metadata": {
        "colab": {
          "base_uri": "https://localhost:8080/"
        },
        "id": "FeBJYj9IIvsm",
        "outputId": "8038d0cf-a9d9-4faf-86d1-2b740eab8fdd"
      },
      "source": [
        "np.random.seed(30)\n",
        "\n",
        "f_prior_dis = beta_dis(1, 3)\n",
        "f_poster_dis = beta_dis(13, 11)\n",
        "\n",
        "f_mean_prior = np.mean(f_prior_dis)\n",
        "f_mean_poster = np.mean(f_poster_dis)\n",
        "\n",
        "print(\"New prior mean: \" + str(f_mean_prior) + \"\\nNew posterior mean: \" + str(f_mean_poster) + \"\\nTraditional likelihood estimate: \" + str(12/20))"
      ],
      "execution_count": null,
      "outputs": [
        {
          "output_type": "stream",
          "text": [
            "New prior mean: 0.24617771775211092\n",
            "New posterior mean: 0.5386528930945568\n",
            "Traditional likelihood estimate: 0.6\n"
          ],
          "name": "stdout"
        }
      ]
    },
    {
      "cell_type": "code",
      "metadata": {
        "colab": {
          "base_uri": "https://localhost:8080/",
          "height": 265
        },
        "id": "yRudoKQAI79A",
        "outputId": "b4644f48-6173-4f0b-8caa-92d76a21be85"
      },
      "source": [
        "plt.hist(f_prior_dis, alpha = 0.3, label=\"prior\")\n",
        "plt.hist(f_poster_dis, alpha = 0.5, label=\"posterior\")\n",
        "plt.legend()\n",
        "plt.show()"
      ],
      "execution_count": null,
      "outputs": [
        {
          "output_type": "display_data",
          "data": {
            "image/png": "[encoded data removed]",
            "text/plain": [
              "<Figure size 432x288 with 1 Axes>"
            ]
          },
          "metadata": {
            "tags": [],
            "needs_background": "light"
          }
        }
      ]
    },
    {
      "cell_type": "markdown",
      "metadata": {
        "id": "jgn4E-wnKRdZ"
      },
      "source": [
        "# 2. Asymptotic Behavior\n"
      ]
    },
    {
      "cell_type": "markdown",
      "metadata": {
        "id": "L-k0bb06SrLM"
      },
      "source": [
        "B) Suppose now that we know the exact distribution of X is given by λ = 2. In python, generate 6 different random samples from this distribution with sizes {10,20,50,100,500,2000}. You may find the function np.random.exponential() from the numpy package useful here (note that the parameter argument for this function is inverted, ie λ = β1 ). Plot the distribution of each sample (i.e. 6 plots total, or optionally 1 plot with 6 curves)."
      ]
    },
    {
      "cell_type": "code",
      "metadata": {
        "colab": {
          "base_uri": "https://localhost:8080/",
          "height": 965
        },
        "id": "rebtFAfxSoC_",
        "outputId": "05e7b110-7274-4332-c6e2-ad306192ba09"
      },
      "source": [
        "sample_size = [10,20,50,100,500,2000]\n",
        "\n",
        "np.random.seed(50)\n",
        "\n",
        "sample_10 = np.random.exponential(1/2, sample_size[0])\n",
        "sample_20 = np.random.exponential(1/2, sample_size[1])\n",
        "sample_50 = np.random.exponential(1/2, sample_size[2])\n",
        "sample_100 = np.random.exponential(1/2, sample_size[3])\n",
        "sample_500 = np.random.exponential(1/2, sample_size[4])\n",
        "sample_2000 = np.random.exponential(1/2, sample_size[5])\n",
        "\n",
        "\n",
        "fig, (plt1, plt2) = plt.subplots(1, 2, figsize=(10,5))\n",
        "fig.suptitle('Distribution of each sample size')\n",
        "plt1.hist(sample_10, alpha = 0.5, label=\"sample size 10\")\n",
        "plt1.legend()\n",
        "\n",
        "plt2.hist(sample_20, alpha = 0.5, label=\"sample size 20\")\n",
        "plt2.legend()\n",
        "fig.show()\n",
        "\n",
        "fig2, (plt3, plt4) = plt.subplots(1, 2, figsize=(10,5))\n",
        "plt3.hist(sample_50, alpha = 0.5, label=\"sample size 50\")\n",
        "plt3.legend()\n",
        "\n",
        "plt4.hist(sample_100, alpha = 0.5, label=\"sample size 100\")\n",
        "plt4.legend()\n",
        "fig2.show()\n",
        "\n",
        "fig3, (plt5, plt6) = plt.subplots(1, 2, figsize=(10,5))\n",
        "plt5.hist(sample_500, alpha = 0.5, label=\"sample size 500\")\n",
        "plt5.legend()\n",
        "\n",
        "plt6.hist(sample_2000, alpha = 0.5, label=\"sample size 2000\")\n",
        "plt6.legend()\n",
        "fig3.show()"
      ],
      "execution_count": null,
      "outputs": [
        {
          "output_type": "display_data",
          "data": {
            "image/png": "[encoded data removed]",
            "text/plain": [
              "<Figure size 720x360 with 2 Axes>"
            ]
          },
          "metadata": {
            "tags": [],
            "needs_background": "light"
          }
        },
        {
          "output_type": "display_data",
          "data": {
            "image/png": "[encoded data removed]",
            "text/plain": [
              "<Figure size 720x360 with 2 Axes>"
            ]
          },
          "metadata": {
            "tags": [],
            "needs_background": "light"
          }
        },
        {
          "output_type": "display_data",
          "data": {
            "image/png": "[encoded data removed]",
            "text/plain": [
              "<Figure size 720x360 with 2 Axes>"
            ]
          },
          "metadata": {
            "tags": [],
            "needs_background": "light"
          }
        }
      ]
    },
    {
      "cell_type": "markdown",
      "metadata": {
        "id": "n-AJ4Hf_X8Nw"
      },
      "source": [
        "C) Using your samples from part B, plot the mean of the sample as a function of sample size, with mean on the y-axis, and sample size on the x-axis(numpy has a handy np.mean() function for this). What is the theoretical mean when λ = 2? Include this as a horizontal line on your plot. What happens to the sample mean as sample size grows? What is the name of the statistical ’law’ that explains the sample average behavior you’ve just seen?"
      ]
    },
    {
      "cell_type": "code",
      "metadata": {
        "colab": {
          "base_uri": "https://localhost:8080/",
          "height": 295
        },
        "id": "L1SyqCQ_Xtc2",
        "outputId": "134683a0-fc5d-4d4a-b01a-a8ffa76ddc48"
      },
      "source": [
        "mean_sample_10 = np.mean(sample_10)\n",
        "mean_sample_20 = np.mean(sample_20)\n",
        "mean_sample_50 = np.mean(sample_50)\n",
        "mean_sample_100 = np.mean(sample_100)\n",
        "mean_sample_500 = np.mean(sample_500)\n",
        "mean_sample_2000 = np.mean(sample_2000)\n",
        "\n",
        "sample_mean = [mean_sample_10, mean_sample_20, mean_sample_50, mean_sample_100, mean_sample_500, mean_sample_2000]\n",
        "theo_mean = 1/2\n",
        "\n",
        "sample_size = ['10','20','50','100','500','2000']\n",
        "plt.bar(sample_size, sample_mean, alpha = 0.5)\n",
        "plt.title('Distribution of sample mean')\n",
        "plt.xlabel('sample size')\n",
        "plt.ylabel('mean')\n",
        "plt.axhline(theo_mean, color='k', linestyle='dotted', linewidth=2)\n",
        "plt.show()\n"
      ],
      "execution_count": null,
      "outputs": [
        {
          "output_type": "display_data",
          "data": {
            "image/png": "[encoded data removed]",
            "text/plain": [
              "<Figure size 432x288 with 1 Axes>"
            ]
          },
          "metadata": {
            "tags": [],
            "needs_background": "light"
          }
        }
      ]
    },
    {
      "cell_type": "markdown",
      "metadata": {
        "id": "AGWZl9fUcksA"
      },
      "source": [
        "# 3. Bootstrapping and Classification"
      ]
    },
    {
      "cell_type": "markdown",
      "metadata": {
        "id": "ONwSaFAbi36x"
      },
      "source": [
        "A) Usingvaluesτ=2,β0 =5,β1 =0.6,β2 =0.8,β3 =0.4,andc=0.5,simulateN=1000 observations of (Xi,yi), where Xi = (x1i,x2i,di). For simplicity, assume x1i ∼ Uniform(−100,100), and x2i ∼ Uniform(−150,150). "
      ]
    },
    {
      "cell_type": "code",
      "metadata": {
        "id": "w8bRelBki6wV"
      },
      "source": [
        "np.random.seed(300)\n",
        "\n",
        "def generate_para():\n",
        "  x1 = np.random.uniform(-100, 100)\n",
        "  x2 = np.random.uniform(-150, 150)\n",
        "  d = np.random.choice([0, 1, 2, 3, 4])\n",
        "  return (x1, x2, d)\n",
        "\n",
        "def generate_epilson():\n",
        "  return np.random.normal(0, 2, 1000)\n",
        "\n",
        "def linear_regression(x, e):\n",
        "  return (5+0.6*(x[0])+0.8*(x[1])+0.4*(x[2])+e)\n",
        "\n",
        "def logistic(x):\n",
        "  return np.exp(x)/1+np.exp(x)\n",
        "\n",
        "e = generate_epilson()\n",
        "x = [generate_para() for i in range(1000)]\n",
        "y = []\n",
        "for i in range(1000):\n",
        "  y.append((logistic(linear_regression(x[i], e[i]))>0.5).astype(float))"
      ],
      "execution_count": null,
      "outputs": []
    },
    {
      "cell_type": "markdown",
      "metadata": {
        "id": "gEDhnVOWrTMQ"
      },
      "source": [
        "B) Split your simulated data into separate training and test sets. Use an 80/20 split. Fit a logistic regression model to the training data, and plot the ROC curve associated with prediction of the test set. Again, please be sure to set your seed, for reproducibility. Note: If you’re planning on using sklearn.linear_model.LogisticRegression(), make sure to set the ’penalty’ argument to ’None’, to avoid regularization."
      ]
    },
    {
      "cell_type": "code",
      "metadata": {
        "colab": {
          "base_uri": "https://localhost:8080/",
          "height": 295
        },
        "id": "TSE-i7hErSyd",
        "outputId": "223345e7-f9f8-41d3-adc6-c5873f347a01"
      },
      "source": [
        "np.random.seed(300)\n",
        "\n",
        "X_train, X_test, y_train, y_test = train_test_split(x, y, test_size = 0.2, shuffle = True, random_state = 10)\n",
        "\n",
        "logit = LogisticRegression(fit_intercept = True, penalty = 'none')\n",
        "\n",
        "# Fit the model to the data\n",
        "logit.fit(X_train, y_train)\n",
        "\n",
        "# Get fitted values from training set\n",
        "y_train_preds = logit.predict(X_train)\n",
        "\n",
        "# Get fitted values from test set\n",
        "y_test_preds = logit.predict(X_test)\n",
        "\n",
        "# Plot the ROC curve\n",
        "fpr, tpr, thresholds = roc_curve(y_test, y_test_preds, pos_label = 1)\n",
        "\n",
        "plt.plot(fpr,tpr)\n",
        "plt.xlabel('False Positive Rate')\n",
        "plt.ylabel('True Positive Rate')\n",
        "plt.title('Receiver Operator Characteristic (ROC) Curve for Logistic')\n",
        "plt.show()"
      ],
      "execution_count": null,
      "outputs": [
        {
          "output_type": "display_data",
          "data": {
            "image/png": "[encoded data removed]",
            "text/plain": [
              "<Figure size 432x288 with 1 Axes>"
            ]
          },
          "metadata": {
            "tags": [],
            "needs_background": "light"
          }
        }
      ]
    },
    {
      "cell_type": "markdown",
      "metadata": {
        "id": "AEHylfHDy1Ze"
      },
      "source": [
        "C) Bootstrapping with Decision Tree Classification"
      ]
    },
    {
      "cell_type": "code",
      "metadata": {
        "id": "4HWp9nlLy0tC"
      },
      "source": [
        "np.random.seed(400)\n",
        "\n",
        "metrics = []\n",
        "\n",
        "for i in range(5000):\n",
        "  # get random indexes\n",
        "  indexes = np.random.choice(1000, 1000, replace=True)\n",
        "  array_x = np.array(x)\n",
        "  array_y = np.array(y)\n",
        "\n",
        "  new_x_train = array_x[indexes]\n",
        "  new_y_train = array_y[indexes]\n",
        "\n",
        "  all_index = [i for i in range(1000)]\n",
        "  train_index = np.setdiff1d(all_index, indexes)\n",
        "  new_x_test = array_x[train_index]\n",
        "  new_y_test = array_y[train_index]\n",
        "\n",
        "  dt = DecisionTreeClassifier()\n",
        "  dt.fit(new_x_train, new_y_train)\n",
        "\n",
        "  # Get fitted values from test set\n",
        "  y_test_preds_tree = dt.predict(new_x_test)\n",
        "\n",
        "  # Get F1 score\n",
        "  test_acc = f1_score(new_y_test, y_test_preds_tree)\n",
        "\n",
        "  metrics.append(test_acc)\n"
      ],
      "execution_count": null,
      "outputs": []
    },
    {
      "cell_type": "markdown",
      "metadata": {
        "id": "S_0jo-3atmAU"
      },
      "source": [
        "D) Provide a plot showing the distribution of the bootstrapped out-of-sample performance metrics. In your bootstrap algorithm (and thus in your plot), you may choose whichever metric you wish (classification error, AUC, precison, recall, F1 score, etc.). Your plot should be a histogram (or kernel density) composed of B different bootstrapped measures of fit."
      ]
    },
    {
      "cell_type": "code",
      "metadata": {
        "colab": {
          "base_uri": "https://localhost:8080/",
          "height": 295
        },
        "id": "f1bSuBjVwQPG",
        "outputId": "1d69f75d-3831-48a0-8a46-5d3e8ef0db3c"
      },
      "source": [
        "plt.hist(metrics, alpha = 0.3)\n",
        "plt.xlabel('F1 score')\n",
        "plt.ylabel('frequency')\n",
        "plt.title('F1 Score for Decision Tree Classification')\n",
        "plt.show()"
      ],
      "execution_count": null,
      "outputs": [
        {
          "output_type": "display_data",
          "data": {
            "image/png": "[encoded data removed]",
            "text/plain": [
              "<Figure size 432x288 with 1 Axes>"
            ]
          },
          "metadata": {
            "tags": [],
            "needs_background": "light"
          }
        }
      ]
    },
    {
      "cell_type": "markdown",
      "metadata": {
        "id": "vy-F1uQ3trdn"
      },
      "source": [
        "E) Compute the mean of the distribution you found in part D. Compare it to the performance of your logistic classifier in part A (you may need to find the matching metric from your logistic classifier to make a proper comparison). Which method performs better? Why do you think that is?"
      ]
    },
    {
      "cell_type": "code",
      "metadata": {
        "id": "9PcobwAXxiLH"
      },
      "source": [
        "np.random.seed(400)\n",
        "\n",
        "metrics_log = []\n",
        "\n",
        "for i in range(5000):\n",
        "  # get random indexes\n",
        "  indexes = np.random.choice(1000, 1000, replace=True)\n",
        "  array_x = np.array(x)\n",
        "  array_y = np.array(y)\n",
        "\n",
        "  new_x_train = array_x[indexes]\n",
        "  new_y_train = array_y[indexes]\n",
        "\n",
        "  all_index = [i for i in range(1000)]\n",
        "  train_index = np.setdiff1d(all_index, indexes)\n",
        "  new_x_test = array_x[train_index]\n",
        "  new_y_test = array_y[train_index]\n",
        "\n",
        "  logit = LogisticRegression(fit_intercept = True, penalty = 'none')\n",
        "\n",
        "  # Fit the model to the data\n",
        "  logit.fit(new_x_train, new_y_train)\n",
        "\n",
        "  # Get fitted values from test set\n",
        "  y_test_preds_log = logit.predict(new_x_test)\n",
        "\n",
        "  # Get F1 score\n",
        "  test_acc = f1_score(new_y_test, y_test_preds_log)\n",
        "\n",
        "  metrics_log.append(test_acc)"
      ],
      "execution_count": null,
      "outputs": []
    },
    {
      "cell_type": "code",
      "metadata": {
        "colab": {
          "base_uri": "https://localhost:8080/"
        },
        "id": "p9Ati4Vt0XRG",
        "outputId": "37ca276a-7821-4952-a7bf-e367c2329efa"
      },
      "source": [
        "mean_log = np.mean(metrics_log)\n",
        "mean_tree = np.mean(metrics)\n",
        "print(\"Mean of decision tree F1 score: \" + str(mean_tree) + \"\\nMean of logisitc regression F1 score: \" + str(mean_log))"
      ],
      "execution_count": null,
      "outputs": [
        {
          "output_type": "stream",
          "text": [
            "Mean of decision tree F1 score: 0.9633636197561262\n",
            "Mean of logisitc regression F1 score: 0.9870131940094923\n"
          ],
          "name": "stdout"
        }
      ]
    }
  ]
}